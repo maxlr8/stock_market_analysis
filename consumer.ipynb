{
 "cells": [
  {
   "cell_type": "code",
   "execution_count": 1,
   "metadata": {},
   "outputs": [],
   "source": [
    "# pylint: disable-all\n",
    "\n",
    "import pandas as pd\n",
    "import json\n",
    "\n",
    "from time import sleep\n",
    "from kafka import KafkaConsumer\n",
    "from s3fs import S3FileSystem"
   ]
  },
  {
   "cell_type": "code",
   "execution_count": 2,
   "metadata": {},
   "outputs": [],
   "source": [
    "consumer = KafkaConsumer(\n",
    "    'kafka_test_action',\n",
    "    bootstrap_servers=['54.167.119.183:9092'],\n",
    "    value_deserializer=lambda x: json.loads(x.decode('utf-8'))\n",
    ")"
   ]
  },
  {
   "cell_type": "code",
   "execution_count": 3,
   "metadata": {},
   "outputs": [],
   "source": [
    "s3 = S3FileSystem()"
   ]
  },
  {
   "cell_type": "code",
   "execution_count": 4,
   "metadata": {},
   "outputs": [
    {
     "name": "stdout",
     "output_type": "stream",
     "text": [
      "{'Index': 'HSI', 'Date': '2020-09-09', 'Open': 24295.41992, 'High': 24520.91992, 'Low': 24213.35938, 'Close': 24468.92969, 'Adj Close': 24468.92969, 'Volume': 1749348400.0, 'CloseUSD': 3180.9608597}\n",
      "{'Index': 'N100', 'Date': '2012-09-07', 'Open': 669.799988, 'High': 676.02002, 'Low': 668.390015, 'Close': 669.030029, 'Adj Close': 669.030029, 'Volume': 405728600.0, 'CloseUSD': 816.21663538}\n",
      "{'Index': 'N100', 'Date': '2008-06-23', 'Open': 803.47998, 'High': 805.320007, 'Low': 797.609985, 'Close': 800.859985, 'Adj Close': 800.859985, 'Volume': 301918100.0, 'CloseUSD': 977.0491817}\n",
      "{'Index': 'IXIC', 'Date': '1996-09-25', 'Open': 1219.660034, 'High': 1224.660034, 'Low': 1219.660034, 'Close': 1224.660034, 'Adj Close': 1224.660034, 'Volume': 622590000.0, 'CloseUSD': 1224.660034}\n",
      "{'Index': '399001.SZ', 'Date': '2015-09-30', 'Open': 10004.79981, 'High': 10048.86035, 'Low': 9890.709961, 'Close': 9988.25, 'Adj Close': 9988.138672, 'Volume': 718700.0, 'CloseUSD': 1598.12}\n",
      "{'Index': 'TWII', 'Date': '2013-05-10', 'Open': 8284.379883, 'High': 8297.330078, 'Low': 8258.620117, 'Close': 8280.259766, 'Adj Close': 8280.227539, 'Volume': 2270000.0, 'CloseUSD': 331.21039064}\n",
      "{'Index': 'GSPTSE', 'Date': '1990-08-02', 'Open': 3592.300049, 'High': 3592.300049, 'Low': 3547.0, 'Close': 3547.0, 'Adj Close': 3537.992432, 'Volume': 40330000.0, 'CloseUSD': 2944.01}\n",
      "{'Index': 'TWII', 'Date': '2005-08-30', 'Open': 6087.859863, 'High': 6087.859863, 'Low': 6021.970215, 'Close': 6032.120117, 'Adj Close': 6032.097656, 'Volume': 2676600.0, 'CloseUSD': 241.28480468}\n",
      "{'Index': 'IXIC', 'Date': '2011-02-03', 'Open': 2746.73999, 'High': 2757.540039, 'Low': 2725.780029, 'Close': 2753.879883, 'Adj Close': 2753.879883, 'Volume': 1941260000.0, 'CloseUSD': 2753.879883}\n",
      "{'Index': 'HSI', 'Date': '1998-12-01', 'Open': 10258.13965, 'High': 10258.13965, 'Low': 9961.299805, 'Close': 9975.849609, 'Adj Close': 9975.849609, 'Volume': 0.0, 'CloseUSD': 1296.86044917}\n",
      "{'Index': 'N225', 'Date': '2020-04-24', 'Open': 19331.85938, 'High': 19352.24023, 'Low': 19175.38086, 'Close': 19262.0, 'Adj Close': 19262.0, 'Volume': 84700000.0, 'CloseUSD': 192.62}\n",
      "{'Index': 'GSPTSE', 'Date': '1995-10-30', 'Open': 4330.899902, 'High': 4379.799805, 'Low': 4324.799805, 'Close': 4379.799805, 'Adj Close': 4379.799805, 'Volume': 44980000.0, 'CloseUSD': 3635.23383815}\n",
      "{'Index': 'NYA', 'Date': '1977-09-19', 'Open': 554.909973, 'High': 554.909973, 'Low': 554.909973, 'Close': 554.909973, 'Adj Close': 554.909973, 'Volume': 0.0, 'CloseUSD': 554.909973}\n",
      "{'Index': 'GDAXI', 'Date': '1998-07-06', 'Open': 5985.390137, 'High': 5985.390137, 'Low': 5901.049805, 'Close': 5942.060059, 'Adj Close': 5942.060059, 'Volume': 0.0, 'CloseUSD': 7249.31327198}\n",
      "{'Index': 'J203.JO', 'Date': '2017-01-16', 'Open': 52794.80859, 'High': 53188.76953, 'Low': 52570.37109, 'Close': 53158.53906, 'Adj Close': 53158.53906, 'Volume': 0.0, 'CloseUSD': 3721.097734200001}\n",
      "{'Index': 'TWII', 'Date': '2004-06-29', 'Open': 5672.720215, 'High': 5741.52002, 'Low': 5652.439941, 'Close': 5741.52002, 'Adj Close': 5741.499023, 'Volume': 2266600.0, 'CloseUSD': 229.6608008}\n",
      "{'Index': 'N100', 'Date': '2013-09-23', 'Open': 786.059998, 'High': 787.789978, 'Low': 778.469971, 'Close': 780.099976, 'Adj Close': 780.099976, 'Volume': 182894900.0, 'CloseUSD': 951.72197072}\n",
      "{'Index': '000001.SS', 'Date': '2004-03-22', 'Open': 1749.708984, 'High': 1760.07605, 'Low': 1742.371948, 'Close': 1755.685059, 'Adj Close': 1755.685059, 'Volume': 17600.0, 'CloseUSD': 280.90960944}\n",
      "{'Index': '399001.SZ', 'Date': '1999-04-16', 'Open': 2860.620117, 'High': 2885.639893, 'Low': 2837.389893, 'Close': 2854.110107, 'Adj Close': 2854.078125, 'Volume': 0.0, 'CloseUSD': 456.65761712}\n",
      "{'Index': 'GSPTSE', 'Date': '2000-08-22', 'Open': 11138.2002, 'High': 11182.40039, 'Low': 11102.59961, 'Close': 11137.2002, 'Adj Close': 11137.2002, 'Volume': 8825350000.0, 'CloseUSD': 9243.876165999998}\n",
      "{'Index': 'N225', 'Date': '1970-01-21', 'Open': 2325.360107, 'High': 2325.360107, 'Low': 2325.360107, 'Close': 2325.360107, 'Adj Close': 2325.360107, 'Volume': 0.0, 'CloseUSD': 23.25360107}\n",
      "{'Index': 'N225', 'Date': '1976-04-12', 'Open': 4423.100098, 'High': 4423.100098, 'Low': 4423.100098, 'Close': 4423.100098, 'Adj Close': 4423.100098, 'Volume': 0.0, 'CloseUSD': 44.23100098}\n",
      "{'Index': 'N225', 'Date': '1995-06-22', 'Open': 14939.79004, 'High': 14953.82031, 'Low': 14792.92969, 'Close': 14926.37012, 'Adj Close': 14926.37012, 'Volume': 0.0, 'CloseUSD': 149.2637012}\n",
      "{'Index': 'TWII', 'Date': '2007-12-18', 'Open': 7730.790039, 'High': 7913.879883, 'Low': 7664.620117, 'Close': 7807.390137, 'Adj Close': 7807.361328, 'Volume': 5093400.0, 'CloseUSD': 312.29560548}\n",
      "{'Index': 'NYA', 'Date': '1999-03-01', 'Open': 6190.180176, 'High': 6190.180176, 'Low': 6190.180176, 'Close': 6190.180176, 'Adj Close': 6190.180176, 'Volume': 0.0, 'CloseUSD': 6190.180176}\n",
      "{'Index': 'GSPTSE', 'Date': '1997-11-12', 'Open': 6750.899902, 'High': 6750.899902, 'Low': 6648.200195, 'Close': 6648.200195, 'Adj Close': 6648.200195, 'Volume': 6372490000.0, 'CloseUSD': 5518.00616185}\n",
      "{'Index': 'NYA', 'Date': '2011-04-29', 'Open': 8639.730469, 'High': 8678.099609, 'Low': 8631.339844, 'Close': 8671.410156, 'Adj Close': 8671.410156, 'Volume': 3479070000.0, 'CloseUSD': 8671.410156}\n",
      "{'Index': 'NYA', 'Date': '2011-04-15', 'Open': 8374.160156, 'High': 8416.230469, 'Low': 8356.080078, 'Close': 8400.30957, 'Adj Close': 8400.30957, 'Volume': 4223740000.0, 'CloseUSD': 8400.30957}\n",
      "{'Index': 'NYA', 'Date': '2014-05-08', 'Open': 10625.38965, 'High': 10677.00977, 'Low': 10585.25, 'Close': 10610.65039, 'Adj Close': 10610.65039, 'Volume': 3393420000.0, 'CloseUSD': 10610.65039}\n",
      "{'Index': '000001.SS', 'Date': '2006-02-22', 'Open': 1288.853027, 'High': 1297.938965, 'Low': 1282.910034, 'Close': 1284.225952, 'Adj Close': 1284.225952, 'Volume': 28600.0, 'CloseUSD': 205.47615232}\n",
      "{'Index': 'N100', 'Date': '2009-02-11', 'Open': 520.900024, 'High': 526.0, 'Low': 519.059998, 'Close': 525.369995, 'Adj Close': 525.369995, 'Volume': 255751900.0, 'CloseUSD': 640.9513939}\n",
      "{'Index': 'HSI', 'Date': '2020-03-23', 'Open': 21696.13086, 'High': 21696.13086, 'Low': 21696.13086, 'Close': 21696.13086, 'Adj Close': 21696.13086, 'Volume': 0.0, 'CloseUSD': 2820.4970118}\n",
      "{'Index': 'IXIC', 'Date': '1978-09-28', 'Open': 132.110001, 'High': 132.110001, 'Low': 132.110001, 'Close': 132.110001, 'Adj Close': 132.110001, 'Volume': 0.0, 'CloseUSD': 132.110001}\n",
      "{'Index': 'N225', 'Date': '2016-10-18', 'Open': 16862.31055, 'High': 16966.90039, 'Low': 16844.16992, 'Close': 16963.60938, 'Adj Close': 16963.60938, 'Volume': 98600000.0, 'CloseUSD': 169.63609380000003}\n",
      "{'Index': 'NYA', 'Date': '2019-06-14', 'Open': 12808.88965, 'High': 12813.0, 'Low': 12767.84961, 'Close': 12787.24023, 'Adj Close': 12787.24023, 'Volume': 2922330000.0, 'CloseUSD': 12787.24023}\n",
      "{'Index': 'TWII', 'Date': '2006-10-02', 'Open': 6907.430176, 'High': 6961.779785, 'Low': 6907.430176, 'Close': 6960.950195, 'Adj Close': 6960.924316, 'Volume': 3468400.0, 'CloseUSD': 278.43800780000004}\n",
      "{'Index': 'IXIC', 'Date': '1991-11-25', 'Open': 523.919983, 'High': 526.580017, 'Low': 522.880005, 'Close': 522.880005, 'Adj Close': 522.880005, 'Volume': 142320000.0, 'CloseUSD': 522.880005}\n",
      "{'Index': 'TWII', 'Date': '2002-04-10', 'Open': 6036.080078, 'High': 6082.939941, 'Low': 6016.040039, 'Close': 6059.209961, 'Adj Close': 6059.1875, 'Volume': 0.0, 'CloseUSD': 242.36839844}\n",
      "{'Index': 'GSPTSE', 'Date': '1988-04-29', 'Open': 3337.800049, 'High': 3343.199951, 'Low': 3334.100098, 'Close': 3339.800049, 'Adj Close': 3331.319092, 'Volume': 21850000.0, 'CloseUSD': 2772.03404067}\n",
      "{'Index': 'GSPTSE', 'Date': '2016-01-15', 'Open': 12184.59961, 'High': 12184.59961, 'Low': 11950.90039, 'Close': 12073.5, 'Adj Close': 12073.5, 'Volume': 28585240000.0, 'CloseUSD': 10021.005}\n",
      "{'Index': 'GDAXI', 'Date': '2010-01-25', 'Open': 5662.850098, 'High': 5693.859863, 'Low': 5624.580078, 'Close': 5631.370117, 'Adj Close': 5631.370117, 'Volume': 122382000.0, 'CloseUSD': 6870.271542740001}\n",
      "{'Index': 'IXIC', 'Date': '1978-01-12', 'Open': 99.540001, 'High': 99.540001, 'Low': 99.540001, 'Close': 99.540001, 'Adj Close': 99.540001, 'Volume': 0.0, 'CloseUSD': 99.540001}\n",
      "{'Index': 'GSPTSE', 'Date': '2002-08-01', 'Open': 6573.100098, 'High': 6605.399902, 'Low': 6523.899902, 'Close': 6550.700195, 'Adj Close': 6550.700195, 'Volume': 9282610000.0, 'CloseUSD': 5437.08116185}\n",
      "{'Index': 'IXIC', 'Date': '2018-04-10', 'Open': 7060.990234, 'High': 7117.97998, 'Low': 7014.879883, 'Close': 7094.299805, 'Adj Close': 7094.299805, 'Volume': 2238770000.0, 'CloseUSD': 7094.299805}\n",
      "{'Index': 'N225', 'Date': '1986-05-19', 'Open': 15697.53027, 'High': 15697.53027, 'Low': 15697.53027, 'Close': 15697.53027, 'Adj Close': 15697.53027, 'Volume': 0.0, 'CloseUSD': 156.9753027}\n",
      "{'Index': 'NSEI', 'Date': '2018-07-26', 'Open': 11132.9502, 'High': 11185.84961, 'Low': 11125.7002, 'Close': 11167.29981, 'Adj Close': 11167.29981, 'Volume': 365400.0, 'CloseUSD': 111.6729981}\n",
      "{'Index': 'NYA', 'Date': '2013-12-10', 'Open': 10131.71973, 'High': 10149.29981, 'Low': 10112.11035, 'Close': 10114.66992, 'Adj Close': 10114.66992, 'Volume': 3117150000.0, 'CloseUSD': 10114.66992}\n",
      "{'Index': 'NYA', 'Date': '1979-05-09', 'Open': 591.710022, 'High': 591.710022, 'Low': 591.710022, 'Close': 591.710022, 'Adj Close': 591.710022, 'Volume': 0.0, 'CloseUSD': 591.710022}\n",
      "{'Index': 'N100', 'Date': '2006-04-13', 'Open': 881.390015, 'High': 883.619995, 'Low': 878.419983, 'Close': 882.619995, 'Adj Close': 882.619995, 'Volume': 206358200.0, 'CloseUSD': 1076.7963939}\n"
     ]
    },
    {
     "ename": "KeyboardInterrupt",
     "evalue": "",
     "output_type": "error",
     "traceback": [
      "\u001b[1;31m---------------------------------------------------------------------------\u001b[0m",
      "\u001b[1;31mKeyboardInterrupt\u001b[0m                         Traceback (most recent call last)",
      "\u001b[1;32me:\\My Study Space\\GIT\\2) Maverick\\stock_market_analysis\\consumer.ipynb Cell 4\u001b[0m line \u001b[0;36m1\n\u001b[1;32m----> <a href='vscode-notebook-cell:/e%3A/My%20Study%20Space/GIT/2%29%20Maverick/stock_market_analysis/consumer.ipynb#W3sZmlsZQ%3D%3D?line=0'>1</a>\u001b[0m \u001b[39mfor\u001b[39;49;00m count, data \u001b[39min\u001b[39;49;00m \u001b[39menumerate\u001b[39;49m(consumer):\n\u001b[0;32m      <a href='vscode-notebook-cell:/e%3A/My%20Study%20Space/GIT/2%29%20Maverick/stock_market_analysis/consumer.ipynb#W3sZmlsZQ%3D%3D?line=1'>2</a>\u001b[0m     \u001b[39mwith\u001b[39;49;00m s3\u001b[39m.\u001b[39;49mopen(\u001b[39mf\u001b[39;49m\u001b[39m\"\u001b[39;49m\u001b[39ms3://kafka-stockmarket-streamer/stock_market_\u001b[39;49m\u001b[39m{\u001b[39;49;00mcount\u001b[39m}\u001b[39;49;00m\u001b[39m.json\u001b[39;49m\u001b[39m\"\u001b[39;49m, \u001b[39m\"\u001b[39;49m\u001b[39mw\u001b[39;49m\u001b[39m\"\u001b[39;49m) \u001b[39mas\u001b[39;49;00m file:\n\u001b[0;32m      <a href='vscode-notebook-cell:/e%3A/My%20Study%20Space/GIT/2%29%20Maverick/stock_market_analysis/consumer.ipynb#W3sZmlsZQ%3D%3D?line=2'>3</a>\u001b[0m         json\u001b[39m.\u001b[39;49mdump(data\u001b[39m.\u001b[39;49mvalue, file)\n",
      "File \u001b[1;32me:\\My Study Space\\GIT\\2) Maverick\\stock_market_analysis\\kafka\\Lib\\site-packages\\kafka\\consumer\\group.py:1193\u001b[0m, in \u001b[0;36mKafkaConsumer.__next__\u001b[1;34m(self)\u001b[0m\n\u001b[0;32m   1191\u001b[0m     \u001b[39mreturn\u001b[39;00m \u001b[39mself\u001b[39m\u001b[39m.\u001b[39mnext_v1()\n\u001b[0;32m   1192\u001b[0m \u001b[39melse\u001b[39;00m:\n\u001b[1;32m-> 1193\u001b[0m     \u001b[39mreturn\u001b[39;00m \u001b[39mself\u001b[39;49m\u001b[39m.\u001b[39;49mnext_v2()\n",
      "File \u001b[1;32me:\\My Study Space\\GIT\\2) Maverick\\stock_market_analysis\\kafka\\Lib\\site-packages\\kafka\\consumer\\group.py:1201\u001b[0m, in \u001b[0;36mKafkaConsumer.next_v2\u001b[1;34m(self)\u001b[0m\n\u001b[0;32m   1199\u001b[0m     \u001b[39mself\u001b[39m\u001b[39m.\u001b[39m_iterator \u001b[39m=\u001b[39m \u001b[39mself\u001b[39m\u001b[39m.\u001b[39m_message_generator_v2()\n\u001b[0;32m   1200\u001b[0m \u001b[39mtry\u001b[39;00m:\n\u001b[1;32m-> 1201\u001b[0m     \u001b[39mreturn\u001b[39;00m \u001b[39mnext\u001b[39m(\u001b[39mself\u001b[39m\u001b[39m.\u001b[39m_iterator)\n\u001b[0;32m   1202\u001b[0m \u001b[39mexcept\u001b[39;00m \u001b[39mStopIteration\u001b[39;00m:\n\u001b[0;32m   1203\u001b[0m     \u001b[39mself\u001b[39m\u001b[39m.\u001b[39m_iterator \u001b[39m=\u001b[39m \u001b[39mNone\u001b[39;00m\n",
      "File \u001b[1;32me:\\My Study Space\\GIT\\2) Maverick\\stock_market_analysis\\kafka\\Lib\\site-packages\\kafka\\consumer\\group.py:1116\u001b[0m, in \u001b[0;36mKafkaConsumer._message_generator_v2\u001b[1;34m(self)\u001b[0m\n\u001b[0;32m   1114\u001b[0m \u001b[39mdef\u001b[39;00m \u001b[39m_message_generator_v2\u001b[39m(\u001b[39mself\u001b[39m):\n\u001b[0;32m   1115\u001b[0m     timeout_ms \u001b[39m=\u001b[39m \u001b[39m1000\u001b[39m \u001b[39m*\u001b[39m (\u001b[39mself\u001b[39m\u001b[39m.\u001b[39m_consumer_timeout \u001b[39m-\u001b[39m time\u001b[39m.\u001b[39mtime())\n\u001b[1;32m-> 1116\u001b[0m     record_map \u001b[39m=\u001b[39m \u001b[39mself\u001b[39;49m\u001b[39m.\u001b[39;49mpoll(timeout_ms\u001b[39m=\u001b[39;49mtimeout_ms, update_offsets\u001b[39m=\u001b[39;49m\u001b[39mFalse\u001b[39;49;00m)\n\u001b[0;32m   1117\u001b[0m     \u001b[39mfor\u001b[39;00m tp, records \u001b[39min\u001b[39;00m six\u001b[39m.\u001b[39miteritems(record_map):\n\u001b[0;32m   1118\u001b[0m         \u001b[39m# Generators are stateful, and it is possible that the tp / records\u001b[39;00m\n\u001b[0;32m   1119\u001b[0m         \u001b[39m# here may become stale during iteration -- i.e., we seek to a\u001b[39;00m\n\u001b[0;32m   1120\u001b[0m         \u001b[39m# different offset, pause consumption, or lose assignment.\u001b[39;00m\n\u001b[0;32m   1121\u001b[0m         \u001b[39mfor\u001b[39;00m record \u001b[39min\u001b[39;00m records:\n\u001b[0;32m   1122\u001b[0m             \u001b[39m# is_fetchable(tp) should handle assignment changes and offset\u001b[39;00m\n\u001b[0;32m   1123\u001b[0m             \u001b[39m# resets; for all other changes (e.g., seeks) we'll rely on the\u001b[39;00m\n\u001b[0;32m   1124\u001b[0m             \u001b[39m# outer function destroying the existing iterator/generator\u001b[39;00m\n\u001b[0;32m   1125\u001b[0m             \u001b[39m# via self._iterator = None\u001b[39;00m\n",
      "File \u001b[1;32me:\\My Study Space\\GIT\\2) Maverick\\stock_market_analysis\\kafka\\Lib\\site-packages\\kafka\\consumer\\group.py:655\u001b[0m, in \u001b[0;36mKafkaConsumer.poll\u001b[1;34m(self, timeout_ms, max_records, update_offsets)\u001b[0m\n\u001b[0;32m    653\u001b[0m remaining \u001b[39m=\u001b[39m timeout_ms\n\u001b[0;32m    654\u001b[0m \u001b[39mwhile\u001b[39;00m \u001b[39mTrue\u001b[39;00m:\n\u001b[1;32m--> 655\u001b[0m     records \u001b[39m=\u001b[39m \u001b[39mself\u001b[39;49m\u001b[39m.\u001b[39;49m_poll_once(remaining, max_records, update_offsets\u001b[39m=\u001b[39;49mupdate_offsets)\n\u001b[0;32m    656\u001b[0m     \u001b[39mif\u001b[39;00m records:\n\u001b[0;32m    657\u001b[0m         \u001b[39mreturn\u001b[39;00m records\n",
      "File \u001b[1;32me:\\My Study Space\\GIT\\2) Maverick\\stock_market_analysis\\kafka\\Lib\\site-packages\\kafka\\consumer\\group.py:702\u001b[0m, in \u001b[0;36mKafkaConsumer._poll_once\u001b[1;34m(self, timeout_ms, max_records, update_offsets)\u001b[0m\n\u001b[0;32m    699\u001b[0m     \u001b[39mself\u001b[39m\u001b[39m.\u001b[39m_client\u001b[39m.\u001b[39mpoll(timeout_ms\u001b[39m=\u001b[39m\u001b[39m0\u001b[39m)\n\u001b[0;32m    701\u001b[0m timeout_ms \u001b[39m=\u001b[39m \u001b[39mmin\u001b[39m(timeout_ms, \u001b[39mself\u001b[39m\u001b[39m.\u001b[39m_coordinator\u001b[39m.\u001b[39mtime_to_next_poll() \u001b[39m*\u001b[39m \u001b[39m1000\u001b[39m)\n\u001b[1;32m--> 702\u001b[0m \u001b[39mself\u001b[39;49m\u001b[39m.\u001b[39;49m_client\u001b[39m.\u001b[39;49mpoll(timeout_ms\u001b[39m=\u001b[39;49mtimeout_ms)\n\u001b[0;32m    703\u001b[0m \u001b[39m# after the long poll, we should check whether the group needs to rebalance\u001b[39;00m\n\u001b[0;32m    704\u001b[0m \u001b[39m# prior to returning data so that the group can stabilize faster\u001b[39;00m\n\u001b[0;32m    705\u001b[0m \u001b[39mif\u001b[39;00m \u001b[39mself\u001b[39m\u001b[39m.\u001b[39m_coordinator\u001b[39m.\u001b[39mneed_rejoin():\n",
      "File \u001b[1;32me:\\My Study Space\\GIT\\2) Maverick\\stock_market_analysis\\kafka\\Lib\\site-packages\\kafka\\client_async.py:602\u001b[0m, in \u001b[0;36mKafkaClient.poll\u001b[1;34m(self, timeout_ms, future)\u001b[0m\n\u001b[0;32m    599\u001b[0m             timeout \u001b[39m=\u001b[39m \u001b[39mmin\u001b[39m(timeout, \u001b[39mself\u001b[39m\u001b[39m.\u001b[39mconfig[\u001b[39m'\u001b[39m\u001b[39mretry_backoff_ms\u001b[39m\u001b[39m'\u001b[39m])\n\u001b[0;32m    600\u001b[0m         timeout \u001b[39m=\u001b[39m \u001b[39mmax\u001b[39m(\u001b[39m0\u001b[39m, timeout)  \u001b[39m# avoid negative timeouts\u001b[39;00m\n\u001b[1;32m--> 602\u001b[0m     \u001b[39mself\u001b[39;49m\u001b[39m.\u001b[39;49m_poll(timeout \u001b[39m/\u001b[39;49m \u001b[39m1000\u001b[39;49m)\n\u001b[0;32m    604\u001b[0m \u001b[39m# called without the lock to avoid deadlock potential\u001b[39;00m\n\u001b[0;32m    605\u001b[0m \u001b[39m# if handlers need to acquire locks\u001b[39;00m\n\u001b[0;32m    606\u001b[0m responses\u001b[39m.\u001b[39mextend(\u001b[39mself\u001b[39m\u001b[39m.\u001b[39m_fire_pending_completed_requests())\n",
      "File \u001b[1;32me:\\My Study Space\\GIT\\2) Maverick\\stock_market_analysis\\kafka\\Lib\\site-packages\\kafka\\client_async.py:634\u001b[0m, in \u001b[0;36mKafkaClient._poll\u001b[1;34m(self, timeout)\u001b[0m\n\u001b[0;32m    631\u001b[0m \u001b[39mself\u001b[39m\u001b[39m.\u001b[39m_register_send_sockets()\n\u001b[0;32m    633\u001b[0m start_select \u001b[39m=\u001b[39m time\u001b[39m.\u001b[39mtime()\n\u001b[1;32m--> 634\u001b[0m ready \u001b[39m=\u001b[39m \u001b[39mself\u001b[39;49m\u001b[39m.\u001b[39;49m_selector\u001b[39m.\u001b[39;49mselect(timeout)\n\u001b[0;32m    635\u001b[0m end_select \u001b[39m=\u001b[39m time\u001b[39m.\u001b[39mtime()\n\u001b[0;32m    636\u001b[0m \u001b[39mif\u001b[39;00m \u001b[39mself\u001b[39m\u001b[39m.\u001b[39m_sensors:\n",
      "File \u001b[1;32mD:\\My Python\\Python3114\\Lib\\selectors.py:323\u001b[0m, in \u001b[0;36mSelectSelector.select\u001b[1;34m(self, timeout)\u001b[0m\n\u001b[0;32m    321\u001b[0m ready \u001b[39m=\u001b[39m []\n\u001b[0;32m    322\u001b[0m \u001b[39mtry\u001b[39;00m:\n\u001b[1;32m--> 323\u001b[0m     r, w, _ \u001b[39m=\u001b[39m \u001b[39mself\u001b[39;49m\u001b[39m.\u001b[39;49m_select(\u001b[39mself\u001b[39;49m\u001b[39m.\u001b[39;49m_readers, \u001b[39mself\u001b[39;49m\u001b[39m.\u001b[39;49m_writers, [], timeout)\n\u001b[0;32m    324\u001b[0m \u001b[39mexcept\u001b[39;00m \u001b[39mInterruptedError\u001b[39;00m:\n\u001b[0;32m    325\u001b[0m     \u001b[39mreturn\u001b[39;00m ready\n",
      "File \u001b[1;32mD:\\My Python\\Python3114\\Lib\\selectors.py:314\u001b[0m, in \u001b[0;36mSelectSelector._select\u001b[1;34m(self, r, w, _, timeout)\u001b[0m\n\u001b[0;32m    313\u001b[0m \u001b[39mdef\u001b[39;00m \u001b[39m_select\u001b[39m(\u001b[39mself\u001b[39m, r, w, _, timeout\u001b[39m=\u001b[39m\u001b[39mNone\u001b[39;00m):\n\u001b[1;32m--> 314\u001b[0m     r, w, x \u001b[39m=\u001b[39m select\u001b[39m.\u001b[39mselect(r, w, w, timeout)\n\u001b[0;32m    315\u001b[0m     \u001b[39mreturn\u001b[39;00m r, w \u001b[39m+\u001b[39m x, []\n",
      "\u001b[1;31mKeyboardInterrupt\u001b[0m: "
     ]
    }
   ],
   "source": [
    "for count, data in enumerate(consumer):\n",
    "    with s3.open(f\"s3://kafka-stockmarket-streamer/stock_market_{count}.json\", \"w\") as file:\n",
    "        json.dump(data.value, file)\n",
    "        print(data.value)"
   ]
  }
 ],
 "metadata": {
  "kernelspec": {
   "display_name": "kafka",
   "language": "python",
   "name": "python3"
  },
  "language_info": {
   "codemirror_mode": {
    "name": "ipython",
    "version": 3
   },
   "file_extension": ".py",
   "mimetype": "text/x-python",
   "name": "python",
   "nbconvert_exporter": "python",
   "pygments_lexer": "ipython3",
   "version": "3.11.4"
  }
 },
 "nbformat": 4,
 "nbformat_minor": 2
}
